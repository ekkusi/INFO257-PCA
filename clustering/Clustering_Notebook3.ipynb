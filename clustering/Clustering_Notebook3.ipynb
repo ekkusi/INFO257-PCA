{
 "cells": [
  {
   "cell_type": "markdown",
   "metadata": {},
   "source": [
    "# Notebook 3:  Redes de Kohonen y SOM (Self organized maps)\n",
    "En este notebook vamos a implementar el algoritmo de clustering SOM en R. El objetivo es entender como funciona este algoritmo y  aprender a utilizarlo con un ejemplo simple. Recuerde instalar previamente el paquete kohonen en R.\n",
    "\n"
   ]
  },
  {
   "cell_type": "code",
   "execution_count": 1,
   "metadata": {},
   "outputs": [
    {
     "data": {
      "text/plain": [
       "     WATER          PROTEIN            FAT           LACTOSE     \n",
       " Min.   :44.90   Min.   : 0.600   Min.   : 1.00   Min.   :0.000  \n",
       " 1st Qu.:71.30   1st Qu.: 3.000   1st Qu.: 3.40   1st Qu.:2.700  \n",
       " Median :82.00   Median : 5.900   Median : 6.30   Median :4.700  \n",
       " Mean   :78.18   Mean   : 6.212   Mean   :10.31   Mean   :4.132  \n",
       " 3rd Qu.:87.70   3rd Qu.: 9.700   3rd Qu.:13.10   3rd Qu.:5.600  \n",
       " Max.   :90.40   Max.   :12.300   Max.   :42.00   Max.   :6.900  \n",
       "      ASH        \n",
       " Min.   :0.1000  \n",
       " 1st Qu.:0.5300  \n",
       " Median :0.8000  \n",
       " Mean   :0.8632  \n",
       " 3rd Qu.:1.1000  \n",
       " Max.   :2.3000  "
      ]
     },
     "metadata": {},
     "output_type": "display_data"
    }
   ],
   "source": [
    "library(kohonen)\n",
    "set.seed(7)\n",
    "\n",
    "#ruta datos\n",
    "#lee datos del archivo de texto como una matriz. La primera #columna se utiliza como vector de nombres de las filas\n",
    "datos <-read.table(\"milk1.dat\",row.names=1,dec=\".\",header=TRUE)\n",
    "datos <- as.data.frame(datos)\n",
    "summary(datos)"
   ]
  },
  {
   "cell_type": "code",
   "execution_count": 3,
   "metadata": {},
   "outputs": [
    {
     "name": "stderr",
     "output_type": "stream",
     "text": [
      "Installing package into 'C:/Users/lorda/OneDrive/Documentos/R/win-library/4.0'\n",
      "(as 'lib' is unspecified)\n",
      "\n"
     ]
    },
    {
     "name": "stdout",
     "output_type": "stream",
     "text": [
      "package 'Rcpp' successfully unpacked and MD5 sums checked\n"
     ]
    },
    {
     "name": "stderr",
     "output_type": "stream",
     "text": [
      "Warning message:\n",
      "\"cannot remove prior installation of package 'Rcpp'\"\n",
      "Warning message in file.copy(savedcopy, lib, recursive = TRUE):\n",
      "\"problema al copiar C:\\Users\\lorda\\OneDrive\\Documentos\\R\\win-library\\4.0\\00LOCK\\Rcpp\\libs\\x64\\Rcpp.dll  a C:\\Users\\lorda\\OneDrive\\Documentos\\R\\win-library\\4.0\\Rcpp\\libs\\x64\\Rcpp.dll: Permission denied\"\n",
      "Warning message:\n",
      "\"restored 'Rcpp'\"\n"
     ]
    },
    {
     "name": "stdout",
     "output_type": "stream",
     "text": [
      "\n",
      "The downloaded binary packages are in\n",
      "\tC:\\Users\\lorda\\AppData\\Local\\Temp\\RtmpoXcdfS\\downloaded_packages\n"
     ]
    }
   ],
   "source": [
    "install.packages('Rcpp')\n",
    "library(Rcpp)"
   ]
  },
  {
   "cell_type": "code",
   "execution_count": null,
   "metadata": {
    "scrolled": true
   },
   "outputs": [],
   "source": [
    "#create SOM grid\n",
    "sommap <- som(scale(datos), grid = somgrid(2, 2, \"hexagonal\"))\n",
    "plot(sommap)\n",
    "\n",
    "colors <- function(n, alpha = 1) {\n",
    "    rev(heat.colors(n, alpha))\n",
    "}\n",
    "\n",
    "plot(sommap, type = \"counts\", palette.name = colors, heatkey = TRUE)\n",
    "\n",
    "plot(sommap, type = \"mapping\", pchs = 20, main = \"Mapping Type SOM\")\n",
    "\n",
    "plot(sommap, type = \"dist.neighbours\", palette.name = terrain.colors)\n"
   ]
  },
  {
   "cell_type": "markdown",
   "metadata": {},
   "source": [
    "Ejercicio 1: \n",
    "\n",
    "a) Explique como funciona el método som, describa parámetros de entrada y salida y los gráficos obtenidos.\n",
    "\n",
    "b) Modifique parámetros de entrada. Interprete y comente los resultados obtenidos. "
   ]
  },
  {
   "cell_type": "code",
   "execution_count": 3,
   "metadata": {},
   "outputs": [
    {
     "data": {
      "image/png": "[encoded data removed]",
      "text/plain": [
       "Plot with title \"Codes plot\""
      ]
     },
     "metadata": {
      "image/png": {
       "height": 420,
       "width": 420
      },
      "text/plain": {
       "height": 420,
       "width": 420
      }
     },
     "output_type": "display_data"
    }
   ],
   "source": [
    "mat <- matrix(sommap$codes[[1]], ncol=4,nrow=4,byrow=FALSE)\n",
    "\n",
    "## use hierarchical clustering to cluster the codebook vectors\n",
    "groups<-3\n",
    "som.hc <- cutree(hclust(dist(mat)), groups)\n",
    "\n",
    "#plot\n",
    "plot(sommap, type=\"codes\", bgcol=rainbow(groups)[som.hc])\n",
    "\n",
    "#cluster boundaries\n",
    "add.cluster.boundaries(sommap, som.hc)\n"
   ]
  },
  {
   "cell_type": "markdown",
   "metadata": {},
   "source": [
    "Ejercicio 2: \n",
    "\n",
    "a) Explique como funciona esta nueva visualización.\n",
    "\n",
    "b) Interprete y comente los resultados obtenidos. "
   ]
  },
  {
   "cell_type": "markdown",
   "metadata": {},
   "source": [
    "Ejercicio 3: \n",
    "\n",
    "a) De los datos en el archivo comunas.csv escoja un subconjunto de datos a los cuales aplicar este algoritmo. Justifique su elección\n",
    "\n",
    "b) Realice las estimaciones, discuta sus resultados y proponga una estrategia gráfica para representarlos."
   ]
  },
  {
   "cell_type": "code",
   "execution_count": null,
   "metadata": {},
   "outputs": [],
   "source": []
  }
 ],
 "metadata": {
  "celltoolbar": "Raw Cell Format",
  "kernelspec": {
   "display_name": "R",
   "language": "R",
   "name": "ir"
  },
  "language_info": {
   "codemirror_mode": "r",
   "file_extension": ".r",
   "mimetype": "text/x-r-source",
   "name": "R",
   "pygments_lexer": "r",
   "version": "4.0.5"
  }
 },
 "nbformat": 4,
 "nbformat_minor": 2
}
