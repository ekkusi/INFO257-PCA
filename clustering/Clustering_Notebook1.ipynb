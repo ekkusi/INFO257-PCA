{
 "cells": [
  {
   "cell_type": "markdown",
   "metadata": {},
   "source": [
    "### Notebook 1:  Clustering con K-means\n",
    "En este notebook vamos a implementar el algoritmo de clustering K-means en R. El objetivo es entender como funciona este algoritmo y  aprender a utilizarlo con un ejemplo simple. Se incluye además la estrategia para definir el número de grupos k. Al final se propone un ejercicio con nuevos datos, con el fin de aprender a utilizar el algoritmo. "
   ]
  },
  {
   "cell_type": "code",
   "execution_count": 11,
   "metadata": {},
   "outputs": [
    {
     "name": "stdout",
     "output_type": "stream",
     "text": [
      "           WATER PROTEIN  FAT LACTOSE  ASH\n",
      "HORSE       90.1     2.6  1.0     6.9 0.35\n",
      "ORANGUTAN   88.5     1.4  3.5     6.0 0.24\n",
      "MONKEY      88.4     2.2  2.7     6.4 0.18\n",
      "DONKEY      90.3     1.7  1.4     6.2 0.40\n",
      "HIPPO       90.4     0.6  4.5     4.4 0.10\n",
      "CAMEL       87.7     3.5  3.4     4.8 0.71\n",
      "BISON       86.9     4.8  1.7     5.7 0.90\n",
      "BUFFALO     82.1     5.9  7.9     4.7 0.78\n",
      "GUINEA_PIG  81.9     7.4  7.2     2.7 0.85\n",
      "CAT         81.6    10.1  6.3     4.4 0.75\n",
      "FOX         81.6     6.6  5.9     4.9 0.93\n",
      "LLAMA       86.5     3.9  3.2     5.6 0.80\n",
      "MULE        90.0     2.0  1.8     5.5 0.47\n",
      "PIG         82.8     7.1  5.1     3.7 1.10\n",
      "ZEBRA       86.2     3.0  4.8     5.3 0.70\n",
      "SHEEP       82.0     5.6  6.4     4.7 0.91\n",
      "DOG         76.3     9.3  9.5     3.0 1.20\n",
      "ELEPHANT    70.7     3.6 17.6     5.6 0.63\n",
      "RABBIT      71.3    12.3 13.1     1.9 2.30\n",
      "RAT         72.5     9.2 12.6     3.3 1.40\n",
      "DEER        65.9    10.4 19.7     2.6 1.40\n",
      "REINDEER    64.8    10.7 20.3     2.5 1.40\n",
      "WHALE       64.8    11.1 21.2     1.6 1.70\n",
      "SEAL        46.4     9.7 42.0     0.0 0.85\n",
      "DOLPHIN     44.9    10.6 34.9     0.9 0.53\n"
     ]
    },
    {
     "data": {
      "text/plain": [
       "     WATER          PROTEIN            FAT           LACTOSE     \n",
       " Min.   :44.90   Min.   : 0.600   Min.   : 1.00   Min.   :0.000  \n",
       " 1st Qu.:71.30   1st Qu.: 3.000   1st Qu.: 3.40   1st Qu.:2.700  \n",
       " Median :82.00   Median : 5.900   Median : 6.30   Median :4.700  \n",
       " Mean   :78.18   Mean   : 6.212   Mean   :10.31   Mean   :4.132  \n",
       " 3rd Qu.:87.70   3rd Qu.: 9.700   3rd Qu.:13.10   3rd Qu.:5.600  \n",
       " Max.   :90.40   Max.   :12.300   Max.   :42.00   Max.   :6.900  \n",
       "      ASH        \n",
       " Min.   :0.1000  \n",
       " 1st Qu.:0.5300  \n",
       " Median :0.8000  \n",
       " Mean   :0.8632  \n",
       " 3rd Qu.:1.1000  \n",
       " Max.   :2.3000  "
      ]
     },
     "metadata": {},
     "output_type": "display_data"
    },
    {
     "data": {
      "image/png": "[encoded data removed]",
      "text/plain": [
       "plot without title"
      ]
     },
     "metadata": {
      "image/png": {
       "height": 420,
       "width": 420
      }
     },
     "output_type": "display_data"
    }
   ],
   "source": [
    "library(cluster)\n",
    "library(ggplot2)\n",
    "\n",
    "#ruta datos\n",
    "#lee datos del archivo de texto como una matriz. La primera #columna se utiliza como vector de nombres de las filas\n",
    "datos <-read.table(\"milk1.dat\",row.names=1,dec=\".\",header=TRUE)\n",
    "print(datos)\n",
    "summary(datos)\n",
    "boxplot(datos)"
   ]
  },
  {
   "cell_type": "markdown",
   "metadata": {},
   "source": [
    "**Descripción de los datos y porque realizar un análisis de agrupamiento**\n",
    "\n",
    "Se trata de un conjunto de datos que describen la composición de la leche de 25 mamíferos. Se consideran 5 características en porcentajes: agua, proteína, grasa, lactosa y calcio. Se puede observar del boxplot que, en promedio, el mayor porcentaje de todas las leches es agua (cerca de 80%), seguido de proteína, grasa y lactosa (cerca del 5%) y bastante menor porcentaje de calcio (0,8%). Las componente que tienen mayor variación son el porcentaje de agua y de grasa. Parece pertinente realizar un análisis de agrupamiento para distinguir grupos de mamíferos que poseen leches de características similares."
   ]
  },
  {
   "cell_type": "code",
   "execution_count": 12,
   "metadata": {
    "scrolled": true
   },
   "outputs": [
    {
     "data": {
      "image/png": "[encoded data removed]",
      "text/plain": [
       "plot without title"
      ]
     },
     "metadata": {
      "image/png": {
       "height": 420,
       "width": 420
      }
     },
     "output_type": "display_data"
    }
   ],
   "source": [
    "#ingresar valor de k0 \n",
    "k0=3\n",
    "cl<-kmeans(datos,k0,iter.max=1000,nstart=10)\n",
    "#grafica los datos coloreados con el grupo asignado en planos de pares de variables\n",
    "pairs(datos,col=cl$cluster)"
   ]
  },
  {
   "cell_type": "markdown",
   "metadata": {},
   "source": [
    "Al considerar 3 grupos con el algoritmo KMeans, se obtienen grupos claramente diferenciados por las variables porcentaje de agua y grasa. El grupo rojo (focas y delfines), con los menores porcentajes de agua y mayores porcentajes de grasa. El grupo negro, con 6 mamíferos, cuyas leches tienen porcentajes intermedios de agua (60 a 75%) y grasa (12 a 22%). Y luego el grupo verde, el mas común, con 17 mamíferos, cuyas leches tienen mas de 75% de agua y menos de 10% de grasa. Las otras variables no permiten discriminar completamente los 3 grupos definidos."
   ]
  },
  {
   "cell_type": "code",
   "execution_count": 13,
   "metadata": {},
   "outputs": [
    {
     "name": "stdout",
     "output_type": "stream",
     "text": [
      "Call:\n",
      "princomp(x = datos, cor = TRUE)\n",
      "\n",
      "Standard deviations:\n",
      "    Comp.1     Comp.2     Comp.3     Comp.4     Comp.5 \n",
      "1.96946572 0.94201777 0.35905327 0.31397620 0.07941651 \n",
      "\n",
      " 5  variables and  25 observations.\n"
     ]
    },
    {
     "data": {
      "text/html": [
       "<table class=\"dataframe\">\n",
       "<caption>A matrix: 3 × 5 of type dbl</caption>\n",
       "<thead>\n",
       "\t<tr><th></th><th scope=col>Comp.1</th><th scope=col>Comp.2</th><th scope=col>Comp.3</th><th scope=col>Comp.4</th><th scope=col>Comp.5</th></tr>\n",
       "</thead>\n",
       "<tbody>\n",
       "\t<tr><th scope=row>1</th><td> 1.243827</td><td> 0.0248324</td><td> 0.07949783</td><td>-0.02299768</td><td> 0.004865841</td></tr>\n",
       "\t<tr><th scope=row>2</th><td>-3.831081</td><td>-2.2408320</td><td> 0.09790001</td><td>-0.02910750</td><td>-0.029457957</td></tr>\n",
       "\t<tr><th scope=row>3</th><td>-1.748439</td><td> 0.5834780</td><td>-0.20968076</td><td> 0.06088255</td><td>-0.002705362</td></tr>\n",
       "</tbody>\n",
       "</table>\n"
      ],
      "text/latex": [
       "A matrix: 3 × 5 of type dbl\n",
       "\\begin{tabular}{r|lllll}\n",
       "  & Comp.1 & Comp.2 & Comp.3 & Comp.4 & Comp.5\\\\\n",
       "\\hline\n",
       "\t1 &  1.243827 &  0.0248324 &  0.07949783 & -0.02299768 &  0.004865841\\\\\n",
       "\t2 & -3.831081 & -2.2408320 &  0.09790001 & -0.02910750 & -0.029457957\\\\\n",
       "\t3 & -1.748439 &  0.5834780 & -0.20968076 &  0.06088255 & -0.002705362\\\\\n",
       "\\end{tabular}\n"
      ],
      "text/markdown": [
       "\n",
       "A matrix: 3 × 5 of type dbl\n",
       "\n",
       "| <!--/--> | Comp.1 | Comp.2 | Comp.3 | Comp.4 | Comp.5 |\n",
       "|---|---|---|---|---|---|\n",
       "| 1 |  1.243827 |  0.0248324 |  0.07949783 | -0.02299768 |  0.004865841 |\n",
       "| 2 | -3.831081 | -2.2408320 |  0.09790001 | -0.02910750 | -0.029457957 |\n",
       "| 3 | -1.748439 |  0.5834780 | -0.20968076 |  0.06088255 | -0.002705362 |\n",
       "\n"
      ],
      "text/plain": [
       "  Comp.1    Comp.2     Comp.3      Comp.4      Comp.5      \n",
       "1  1.243827  0.0248324  0.07949783 -0.02299768  0.004865841\n",
       "2 -3.831081 -2.2408320  0.09790001 -0.02910750 -0.029457957\n",
       "3 -1.748439  0.5834780 -0.20968076  0.06088255 -0.002705362"
      ]
     },
     "metadata": {},
     "output_type": "display_data"
    },
    {
     "data": {
      "text/plain": [
       "K-means clustering with 3 clusters of sizes 16, 2, 7\n",
       "\n",
       "Cluster means:\n",
       "     WATER   PROTEIN      FAT  LACTOSE      ASH\n",
       "1 86.06250  4.275000  4.17500 5.118750 0.635625\n",
       "2 45.65000 10.150000 38.45000 0.450000 0.690000\n",
       "3 69.47143  9.514286 16.28571 2.928571 1.432857\n",
       "\n",
       "Clustering vector:\n",
       "     HORSE  ORANGUTAN     MONKEY     DONKEY      HIPPO      CAMEL      BISON \n",
       "         1          1          1          1          1          1          1 \n",
       "   BUFFALO GUINEA_PIG        CAT        FOX      LLAMA       MULE        PIG \n",
       "         1          1          1          1          1          1          1 \n",
       "     ZEBRA      SHEEP        DOG   ELEPHANT     RABBIT        RAT       DEER \n",
       "         1          1          3          3          3          3          3 \n",
       "  REINDEER      WHALE       SEAL    DOLPHIN \n",
       "         3          3          2          2 \n",
       "\n",
       "Within cluster sum of squares by cluster:\n",
       "[1] 377.2215  27.1912 299.9911\n",
       " (between_SS / total_SS =  89.9 %)\n",
       "\n",
       "Available components:\n",
       "\n",
       "[1] \"cluster\"      \"centers\"      \"totss\"        \"withinss\"     \"tot.withinss\"\n",
       "[6] \"betweenss\"    \"size\"         \"iter\"         \"ifault\"      "
      ]
     },
     "metadata": {},
     "output_type": "display_data"
    },
    {
     "data": {
      "image/png": "[encoded data removed]",
      "text/plain": [
       "Plot with title \"res\""
      ]
     },
     "metadata": {
      "image/png": {
       "height": 420,
       "width": 420
      }
     },
     "output_type": "display_data"
    },
    {
     "data": {
      "image/png": "[encoded data removed]",
      "text/plain": [
       "plot without title"
      ]
     },
     "metadata": {
      "image/png": {
       "height": 420,
       "width": 420
      }
     },
     "output_type": "display_data"
    }
   ],
   "source": [
    "#Análisis de Componentes Principales para graficar los grupos obtenidos\n",
    "#Calcula plano de componentes principales y grafica las observaciones con el número de su grupo\n",
    "res <- princomp(datos, cor=TRUE)\n",
    "print(res)\n",
    "plot(res)\n",
    "res2 <- predict(res,cl$centers)\n",
    "res2\n",
    "cl\n",
    "biplot(res,xlabs=cl$cluster)\n",
    "#grafica los centros de cada grupo en el plano de componentes principales utilizando colores distintos\n",
    "points(res2[,1:2],col=1:k0,pch=19)\n"
   ]
  },
  {
   "cell_type": "markdown",
   "metadata": {},
   "source": [
    "La representación de los grupos en el primer plano principal nos permite distinguir que el grupo 3 representa a los individuos con mayores valores de FAT, mientras corresponde a los mamíferos con mayores porcentajes de agua y lactosa y por otra parte el grupo 2 contiene mamíferos con mayores porcentajes de proteína y calcio (a excepción de un caso)."
   ]
  },
  {
   "cell_type": "code",
   "execution_count": 14,
   "metadata": {},
   "outputs": [
    {
     "data": {
      "image/png": "[encoded data removed]",
      "text/plain": [
       "Plot with title \"J v/s k en k-means\""
      ]
     },
     "metadata": {
      "image/png": {
       "height": 420,
       "width": 420
      }
     },
     "output_type": "display_data"
    }
   ],
   "source": [
    "#Estrategia para elegir K, el numero de grupos\n",
    "#J suma cuadrado de las distancias por cada k utilizado\n",
    "#K-means\n",
    "J<-rep(0,20)\n",
    "fin_iter<-20\n",
    "\n",
    "\n",
    "for (k in 1:fin_iter){\n",
    "     cl<-kmeans(datos,k,iter.max=1000,nstart=10)\n",
    "\t J[k]<-cl$tot.withinss\n",
    "}\n",
    "\n",
    "\n",
    "plot(1:fin_iter,J,xlab=\"k\",ylab=\"J\",type=\"p\",main=\"J v/s k en k-means\",col=2) "
   ]
  },
  {
   "cell_type": "markdown",
   "metadata": {},
   "source": [
    "**Ejercicio 1:** \n",
    "1. De acuerdo al gráfico obtenido, cuál es el valor de K mas apropiado? Agregue código para automatizar este criterio.\n",
    "2. Caracterice los grupos obtenidos con el K óptimo. Interprete sus resultados"
   ]
  },
  {
   "cell_type": "code",
   "execution_count": 15,
   "metadata": {},
   "outputs": [
    {
     "name": "stdout",
     "output_type": "stream",
     "text": [
      "     HORSE  ORANGUTAN     MONKEY     DONKEY      HIPPO      CAMEL      BISON \n",
      "         3          3          3          3          3          3          3 \n",
      "   BUFFALO GUINEA_PIG        CAT        FOX      LLAMA       MULE        PIG \n",
      "         3          3          3          3          3          3          3 \n",
      "     ZEBRA      SHEEP        DOG   ELEPHANT     RABBIT        RAT       DEER \n",
      "         3          3          2          2          2          2          2 \n",
      "  REINDEER      WHALE       SEAL    DOLPHIN \n",
      "         2          2          1          1 \n"
     ]
    },
    {
     "data": {
      "text/html": [
       "<table class=\"dataframe\">\n",
       "<caption>A matrix: 6 × 5 of type dbl</caption>\n",
       "<thead>\n",
       "\t<tr><th></th><th scope=col>WATER</th><th scope=col>PROTEIN</th><th scope=col>FAT</th><th scope=col>LACTOSE</th><th scope=col>ASH</th></tr>\n",
       "</thead>\n",
       "<tbody>\n",
       "\t<tr><th scope=row>Min.</th><td>44.900</td><td> 9.700</td><td>34.900</td><td>0.000</td><td>0.53</td></tr>\n",
       "\t<tr><th scope=row>1st Qu.</th><td>45.275</td><td> 9.925</td><td>36.675</td><td>0.225</td><td>0.61</td></tr>\n",
       "\t<tr><th scope=row>Median</th><td>45.650</td><td>10.150</td><td>38.450</td><td>0.450</td><td>0.69</td></tr>\n",
       "\t<tr><th scope=row>Mean</th><td>45.650</td><td>10.150</td><td>38.450</td><td>0.450</td><td>0.69</td></tr>\n",
       "\t<tr><th scope=row>3rd Qu.</th><td>46.025</td><td>10.375</td><td>40.225</td><td>0.675</td><td>0.77</td></tr>\n",
       "\t<tr><th scope=row>Max.</th><td>46.400</td><td>10.600</td><td>42.000</td><td>0.900</td><td>0.85</td></tr>\n",
       "</tbody>\n",
       "</table>\n"
      ],
      "text/latex": [
       "A matrix: 6 × 5 of type dbl\n",
       "\\begin{tabular}{r|lllll}\n",
       "  & WATER & PROTEIN & FAT & LACTOSE & ASH\\\\\n",
       "\\hline\n",
       "\tMin. & 44.900 &  9.700 & 34.900 & 0.000 & 0.53\\\\\n",
       "\t1st Qu. & 45.275 &  9.925 & 36.675 & 0.225 & 0.61\\\\\n",
       "\tMedian & 45.650 & 10.150 & 38.450 & 0.450 & 0.69\\\\\n",
       "\tMean & 45.650 & 10.150 & 38.450 & 0.450 & 0.69\\\\\n",
       "\t3rd Qu. & 46.025 & 10.375 & 40.225 & 0.675 & 0.77\\\\\n",
       "\tMax. & 46.400 & 10.600 & 42.000 & 0.900 & 0.85\\\\\n",
       "\\end{tabular}\n"
      ],
      "text/markdown": [
       "\n",
       "A matrix: 6 × 5 of type dbl\n",
       "\n",
       "| <!--/--> | WATER | PROTEIN | FAT | LACTOSE | ASH |\n",
       "|---|---|---|---|---|---|\n",
       "| Min. | 44.900 |  9.700 | 34.900 | 0.000 | 0.53 |\n",
       "| 1st Qu. | 45.275 |  9.925 | 36.675 | 0.225 | 0.61 |\n",
       "| Median | 45.650 | 10.150 | 38.450 | 0.450 | 0.69 |\n",
       "| Mean | 45.650 | 10.150 | 38.450 | 0.450 | 0.69 |\n",
       "| 3rd Qu. | 46.025 | 10.375 | 40.225 | 0.675 | 0.77 |\n",
       "| Max. | 46.400 | 10.600 | 42.000 | 0.900 | 0.85 |\n",
       "\n"
      ],
      "text/plain": [
       "        WATER  PROTEIN FAT    LACTOSE ASH \n",
       "Min.    44.900  9.700  34.900 0.000   0.53\n",
       "1st Qu. 45.275  9.925  36.675 0.225   0.61\n",
       "Median  45.650 10.150  38.450 0.450   0.69\n",
       "Mean    45.650 10.150  38.450 0.450   0.69\n",
       "3rd Qu. 46.025 10.375  40.225 0.675   0.77\n",
       "Max.    46.400 10.600  42.000 0.900   0.85"
      ]
     },
     "metadata": {},
     "output_type": "display_data"
    },
    {
     "data": {
      "text/html": [
       "<table class=\"dataframe\">\n",
       "<caption>A matrix: 6 × 5 of type dbl</caption>\n",
       "<thead>\n",
       "\t<tr><th></th><th scope=col>WATER</th><th scope=col>PROTEIN</th><th scope=col>FAT</th><th scope=col>LACTOSE</th><th scope=col>ASH</th></tr>\n",
       "</thead>\n",
       "<tbody>\n",
       "\t<tr><th scope=row>Min.</th><td>64.80000</td><td> 3.600000</td><td> 9.50000</td><td>1.600000</td><td>0.630000</td></tr>\n",
       "\t<tr><th scope=row>1st Qu.</th><td>65.35000</td><td> 9.250000</td><td>12.85000</td><td>2.200000</td><td>1.300000</td></tr>\n",
       "\t<tr><th scope=row>Median</th><td>70.70000</td><td>10.400000</td><td>17.60000</td><td>2.600000</td><td>1.400000</td></tr>\n",
       "\t<tr><th scope=row>Mean</th><td>69.47143</td><td> 9.514286</td><td>16.28571</td><td>2.928571</td><td>1.432857</td></tr>\n",
       "\t<tr><th scope=row>3rd Qu.</th><td>71.90000</td><td>10.900000</td><td>20.00000</td><td>3.150000</td><td>1.550000</td></tr>\n",
       "\t<tr><th scope=row>Max.</th><td>76.30000</td><td>12.300000</td><td>21.20000</td><td>5.600000</td><td>2.300000</td></tr>\n",
       "</tbody>\n",
       "</table>\n"
      ],
      "text/latex": [
       "A matrix: 6 × 5 of type dbl\n",
       "\\begin{tabular}{r|lllll}\n",
       "  & WATER & PROTEIN & FAT & LACTOSE & ASH\\\\\n",
       "\\hline\n",
       "\tMin. & 64.80000 &  3.600000 &  9.50000 & 1.600000 & 0.630000\\\\\n",
       "\t1st Qu. & 65.35000 &  9.250000 & 12.85000 & 2.200000 & 1.300000\\\\\n",
       "\tMedian & 70.70000 & 10.400000 & 17.60000 & 2.600000 & 1.400000\\\\\n",
       "\tMean & 69.47143 &  9.514286 & 16.28571 & 2.928571 & 1.432857\\\\\n",
       "\t3rd Qu. & 71.90000 & 10.900000 & 20.00000 & 3.150000 & 1.550000\\\\\n",
       "\tMax. & 76.30000 & 12.300000 & 21.20000 & 5.600000 & 2.300000\\\\\n",
       "\\end{tabular}\n"
      ],
      "text/markdown": [
       "\n",
       "A matrix: 6 × 5 of type dbl\n",
       "\n",
       "| <!--/--> | WATER | PROTEIN | FAT | LACTOSE | ASH |\n",
       "|---|---|---|---|---|---|\n",
       "| Min. | 64.80000 |  3.600000 |  9.50000 | 1.600000 | 0.630000 |\n",
       "| 1st Qu. | 65.35000 |  9.250000 | 12.85000 | 2.200000 | 1.300000 |\n",
       "| Median | 70.70000 | 10.400000 | 17.60000 | 2.600000 | 1.400000 |\n",
       "| Mean | 69.47143 |  9.514286 | 16.28571 | 2.928571 | 1.432857 |\n",
       "| 3rd Qu. | 71.90000 | 10.900000 | 20.00000 | 3.150000 | 1.550000 |\n",
       "| Max. | 76.30000 | 12.300000 | 21.20000 | 5.600000 | 2.300000 |\n",
       "\n"
      ],
      "text/plain": [
       "        WATER    PROTEIN   FAT      LACTOSE  ASH     \n",
       "Min.    64.80000  3.600000  9.50000 1.600000 0.630000\n",
       "1st Qu. 65.35000  9.250000 12.85000 2.200000 1.300000\n",
       "Median  70.70000 10.400000 17.60000 2.600000 1.400000\n",
       "Mean    69.47143  9.514286 16.28571 2.928571 1.432857\n",
       "3rd Qu. 71.90000 10.900000 20.00000 3.150000 1.550000\n",
       "Max.    76.30000 12.300000 21.20000 5.600000 2.300000"
      ]
     },
     "metadata": {},
     "output_type": "display_data"
    },
    {
     "data": {
      "text/html": [
       "<table class=\"dataframe\">\n",
       "<caption>A matrix: 6 × 5 of type dbl</caption>\n",
       "<thead>\n",
       "\t<tr><th></th><th scope=col>WATER</th><th scope=col>PROTEIN</th><th scope=col>FAT</th><th scope=col>LACTOSE</th><th scope=col>ASH</th></tr>\n",
       "</thead>\n",
       "<tbody>\n",
       "\t<tr><th scope=row>Min.</th><td>81.6000</td><td> 0.600</td><td>1.000</td><td>2.70000</td><td>0.100000</td></tr>\n",
       "\t<tr><th scope=row>1st Qu.</th><td>82.0750</td><td> 2.150</td><td>2.475</td><td>4.62500</td><td>0.387500</td></tr>\n",
       "\t<tr><th scope=row>Median</th><td>86.7000</td><td> 3.700</td><td>4.000</td><td>5.10000</td><td>0.730000</td></tr>\n",
       "\t<tr><th scope=row>Mean</th><td>86.0625</td><td> 4.275</td><td>4.175</td><td>5.11875</td><td>0.635625</td></tr>\n",
       "\t<tr><th scope=row>3rd Qu.</th><td>88.8750</td><td> 6.075</td><td>6.000</td><td>5.77500</td><td>0.862500</td></tr>\n",
       "\t<tr><th scope=row>Max.</th><td>90.4000</td><td>10.100</td><td>7.900</td><td>6.90000</td><td>1.100000</td></tr>\n",
       "</tbody>\n",
       "</table>\n"
      ],
      "text/latex": [
       "A matrix: 6 × 5 of type dbl\n",
       "\\begin{tabular}{r|lllll}\n",
       "  & WATER & PROTEIN & FAT & LACTOSE & ASH\\\\\n",
       "\\hline\n",
       "\tMin. & 81.6000 &  0.600 & 1.000 & 2.70000 & 0.100000\\\\\n",
       "\t1st Qu. & 82.0750 &  2.150 & 2.475 & 4.62500 & 0.387500\\\\\n",
       "\tMedian & 86.7000 &  3.700 & 4.000 & 5.10000 & 0.730000\\\\\n",
       "\tMean & 86.0625 &  4.275 & 4.175 & 5.11875 & 0.635625\\\\\n",
       "\t3rd Qu. & 88.8750 &  6.075 & 6.000 & 5.77500 & 0.862500\\\\\n",
       "\tMax. & 90.4000 & 10.100 & 7.900 & 6.90000 & 1.100000\\\\\n",
       "\\end{tabular}\n"
      ],
      "text/markdown": [
       "\n",
       "A matrix: 6 × 5 of type dbl\n",
       "\n",
       "| <!--/--> | WATER | PROTEIN | FAT | LACTOSE | ASH |\n",
       "|---|---|---|---|---|---|\n",
       "| Min. | 81.6000 |  0.600 | 1.000 | 2.70000 | 0.100000 |\n",
       "| 1st Qu. | 82.0750 |  2.150 | 2.475 | 4.62500 | 0.387500 |\n",
       "| Median | 86.7000 |  3.700 | 4.000 | 5.10000 | 0.730000 |\n",
       "| Mean | 86.0625 |  4.275 | 4.175 | 5.11875 | 0.635625 |\n",
       "| 3rd Qu. | 88.8750 |  6.075 | 6.000 | 5.77500 | 0.862500 |\n",
       "| Max. | 90.4000 | 10.100 | 7.900 | 6.90000 | 1.100000 |\n",
       "\n"
      ],
      "text/plain": [
       "        WATER   PROTEIN FAT   LACTOSE ASH     \n",
       "Min.    81.6000  0.600  1.000 2.70000 0.100000\n",
       "1st Qu. 82.0750  2.150  2.475 4.62500 0.387500\n",
       "Median  86.7000  3.700  4.000 5.10000 0.730000\n",
       "Mean    86.0625  4.275  4.175 5.11875 0.635625\n",
       "3rd Qu. 88.8750  6.075  6.000 5.77500 0.862500\n",
       "Max.    90.4000 10.100  7.900 6.90000 1.100000"
      ]
     },
     "metadata": {},
     "output_type": "display_data"
    }
   ],
   "source": [
    "cl<-kmeans(datos,3,iter.max=1000,nstart=10)\n",
    "print(cl$cluster)\n",
    "apply(datos[cl$cluster==1,],2,summary)\n",
    "apply(datos[cl$cluster==2,],2,summary)\n",
    "apply(datos[cl$cluster==3,],2,summary)\n",
    "\n"
   ]
  },
  {
   "cell_type": "markdown",
   "metadata": {},
   "source": [
    "**Ejercicio 2:** Realice un análisis de clustering con un subconjunto de datos de comunas.csv (puede escoger variables (al menos 5) y comunas (al menos 30) indicando el criterio utilizado en su elección.\n",
    "\n",
    "1. Describa los datos y discuta la pertinencia de realizar un análisis de clustering o agrupamiento\n",
    "2. Utilice k-means para realizar el clustering de los datos y calcule el K óptimo. \n",
    "3. Caracterice los grupos obtenidos con el K óptimo. Interprete sus resultados\n"
   ]
  },
  {
   "cell_type": "code",
   "execution_count": 9,
   "metadata": {},
   "outputs": [],
   "source": [
    "datos <- read.csv(\"comunas.csv\",header=TRUE,sep=\";\",dec=\".\")"
   ]
  },
  {
   "cell_type": "code",
   "execution_count": null,
   "metadata": {},
   "outputs": [],
   "source": []
  }
 ],
 "metadata": {
  "celltoolbar": "Raw Cell Format",
  "kernelspec": {
   "display_name": "R",
   "language": "R",
   "name": "ir"
  },
  "language_info": {
   "codemirror_mode": "r",
   "file_extension": ".r",
   "mimetype": "text/x-r-source",
   "name": "R",
   "pygments_lexer": "r",
   "version": "4.1.1"
  }
 },
 "nbformat": 4,
 "nbformat_minor": 2
}
